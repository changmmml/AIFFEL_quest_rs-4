{
 "cells": [
  {
   "cell_type": "markdown",
   "metadata": {
    "id": "dGe4JE5F_eU5"
   },
   "source": [
    "# 프로젝트: 한국어 데이터로 챗봇 만들기"
   ]
  },
  {
   "cell_type": "markdown",
   "metadata": {
    "id": "MMtXFbAB_g4L"
   },
   "source": [
    "## 1. 라이브러리 설치"
   ]
  },
  {
   "cell_type": "code",
   "execution_count": 1,
   "metadata": {
    "id": "Oc8kpni0_Ogw"
   },
   "outputs": [
    {
     "name": "stdout",
     "output_type": "stream",
     "text": [
      "2.6.0\n"
     ]
    }
   ],
   "source": [
    "import tensorflow as tf\n",
    "import tensorflow_datasets as tfds\n",
    "import os\n",
    "import re\n",
    "import numpy as np\n",
    "import pandas as pd\n",
    "import matplotlib.pyplot as plt\n",
    "\n",
    "print(tf.__version__)"
   ]
  },
  {
   "cell_type": "markdown",
   "metadata": {
    "id": "68Xdmt-ABDx3"
   },
   "source": [
    "## 2. 데이터셋 가져오기"
   ]
  },
  {
   "cell_type": "code",
   "execution_count": 2,
   "metadata": {
    "colab": {
     "base_uri": "https://localhost:8080/",
     "height": 356
    },
    "id": "FxVRlnSS_VQU",
    "outputId": "bfda45ef-6293-4464-b105-98ff8cd5906a"
   },
   "outputs": [
    {
     "data": {
      "text/html": [
       "<div>\n",
       "<style scoped>\n",
       "    .dataframe tbody tr th:only-of-type {\n",
       "        vertical-align: middle;\n",
       "    }\n",
       "\n",
       "    .dataframe tbody tr th {\n",
       "        vertical-align: top;\n",
       "    }\n",
       "\n",
       "    .dataframe thead th {\n",
       "        text-align: right;\n",
       "    }\n",
       "</style>\n",
       "<table border=\"1\" class=\"dataframe\">\n",
       "  <thead>\n",
       "    <tr style=\"text-align: right;\">\n",
       "      <th></th>\n",
       "      <th>Q</th>\n",
       "      <th>A</th>\n",
       "      <th>label</th>\n",
       "    </tr>\n",
       "  </thead>\n",
       "  <tbody>\n",
       "    <tr>\n",
       "      <th>10012</th>\n",
       "      <td>사랑할수록 집착해</td>\n",
       "      <td>상대방이 싫어할수도 있어요.</td>\n",
       "      <td>2</td>\n",
       "    </tr>\n",
       "    <tr>\n",
       "      <th>492</th>\n",
       "      <td>나 무시하는 사람 짜증나</td>\n",
       "      <td>무시하세요.</td>\n",
       "      <td>0</td>\n",
       "    </tr>\n",
       "    <tr>\n",
       "      <th>11109</th>\n",
       "      <td>좋아하는 사람에게 요리를 해주면 좋아할까?</td>\n",
       "      <td>맛이 없든 있든 좋을 것 같아요.</td>\n",
       "      <td>2</td>\n",
       "    </tr>\n",
       "    <tr>\n",
       "      <th>4810</th>\n",
       "      <td>택시비 너무 비싸</td>\n",
       "      <td>후회해도 늦었어요.</td>\n",
       "      <td>0</td>\n",
       "    </tr>\n",
       "    <tr>\n",
       "      <th>6880</th>\n",
       "      <td>아침에 벌떡 일어났네.</td>\n",
       "      <td>안 좋은 꿈이라도 꿨나봅니다.</td>\n",
       "      <td>1</td>\n",
       "    </tr>\n",
       "    <tr>\n",
       "      <th>10169</th>\n",
       "      <td>썸 타고 싶어</td>\n",
       "      <td>먼저 다가가 보세요.</td>\n",
       "      <td>2</td>\n",
       "    </tr>\n",
       "    <tr>\n",
       "      <th>3139</th>\n",
       "      <td>여드름 짰어</td>\n",
       "      <td>손으로 만지지 마세요.</td>\n",
       "      <td>0</td>\n",
       "    </tr>\n",
       "    <tr>\n",
       "      <th>712</th>\n",
       "      <td>남자 보통 어디서 만나</td>\n",
       "      <td>소개팅 시켜달라고 말해보세요.</td>\n",
       "      <td>0</td>\n",
       "    </tr>\n",
       "    <tr>\n",
       "      <th>7075</th>\n",
       "      <td>여친이랑 헤어진지 1년째인데 아직도 못잊네.</td>\n",
       "      <td>언젠간 결정을 내려야하는 시기가 올 거예요.</td>\n",
       "      <td>1</td>\n",
       "    </tr>\n",
       "    <tr>\n",
       "      <th>6858</th>\n",
       "      <td>아직도 남았나봐</td>\n",
       "      <td>미련이 남지 않았길 발바니다.</td>\n",
       "      <td>1</td>\n",
       "    </tr>\n",
       "  </tbody>\n",
       "</table>\n",
       "</div>"
      ],
      "text/plain": [
       "                              Q                         A  label\n",
       "10012                 사랑할수록 집착해           상대방이 싫어할수도 있어요.      2\n",
       "492               나 무시하는 사람 짜증나                    무시하세요.      0\n",
       "11109   좋아하는 사람에게 요리를 해주면 좋아할까?        맛이 없든 있든 좋을 것 같아요.      2\n",
       "4810                  택시비 너무 비싸                후회해도 늦었어요.      0\n",
       "6880               아침에 벌떡 일어났네.          안 좋은 꿈이라도 꿨나봅니다.      1\n",
       "10169                   썸 타고 싶어               먼저 다가가 보세요.      2\n",
       "3139                     여드름 짰어              손으로 만지지 마세요.      0\n",
       "712                남자 보통 어디서 만나          소개팅 시켜달라고 말해보세요.      0\n",
       "7075   여친이랑 헤어진지 1년째인데 아직도 못잊네.  언젠간 결정을 내려야하는 시기가 올 거예요.      1\n",
       "6858                   아직도 남았나봐          미련이 남지 않았길 발바니다.      1"
      ]
     },
     "execution_count": 2,
     "metadata": {},
     "output_type": "execute_result"
    }
   ],
   "source": [
    "root_dir = os.getcwd()\n",
    "\n",
    "# path_to_dataset = os.path.join(root_dir, \"ChatbotData.csv\")\n",
    "path_to_dataset = \"data/ChatbotData.csv\"\n",
    "\n",
    "data = pd.read_csv(path_to_dataset)\n",
    "\n",
    "data.sample(10)"
   ]
  },
  {
   "cell_type": "markdown",
   "metadata": {
    "id": "tXkIYa24DHU5"
   },
   "source": [
    "label의 의미 : 일상다반사 0, 이별(부정) 1, 사랑(긍정) 2로 레이블링"
   ]
  },
  {
   "cell_type": "markdown",
   "metadata": {
    "id": "-qk89Qa3EZmS"
   },
   "source": [
    "## 3. 데이터 전처리"
   ]
  },
  {
   "cell_type": "code",
   "execution_count": 3,
   "metadata": {
    "colab": {
     "base_uri": "https://localhost:8080/"
    },
    "id": "go0wMXzaCW2H",
    "outputId": "ba24c978-985b-41b4-b925-9144200aee9b"
   },
   "outputs": [
    {
     "name": "stdout",
     "output_type": "stream",
     "text": [
      "Q        0\n",
      "A        0\n",
      "label    0\n",
      "dtype: int64\n"
     ]
    }
   ],
   "source": [
    "# 결측치 확인\n",
    "\n",
    "print(data.isnull().sum())"
   ]
  },
  {
   "cell_type": "code",
   "execution_count": 4,
   "metadata": {
    "id": "Jo66UaGZALAv"
   },
   "outputs": [],
   "source": [
    "# 전처리 함수\n",
    "def preprocess_sentence(sentence):\n",
    "\n",
    "  # 단어와 구두점(punctuation) 사이의 거리를 만듭니다.\n",
    "  sentence = re.sub(r\"([?.!,])\", r\" \\1 \", sentence)\n",
    "  sentence = re.sub(r'[\" \"]+', \" \", sentence)\n",
    "\n",
    "  # (ㄱ-ㅎ, ㅏ-ㅣ, 가-힣, \".\", \"?\", \"!\", \",\")를 제외한 모든 문자를 공백인 ' '로 대체합니다.\n",
    "  sentence = re.sub(r\"[^ㄱ-ㅎㅏ-ㅣ가-힣\\.\\?\\!,]\", \" \", sentence)\n",
    "  sentence = sentence.strip()\n",
    "  return sentence"
   ]
  },
  {
   "cell_type": "code",
   "execution_count": 5,
   "metadata": {
    "id": "9SFRh9bGCcrr"
   },
   "outputs": [],
   "source": [
    "# 질문과 답변의 쌍인 데이터셋을 구성하기 위한 데이터 로드 함수\n",
    "def load_answer():\n",
    "\n",
    "  inputs, outputs = [], []\n",
    "\n",
    "  for i in range(len(data)):\n",
    "      question = data[\"Q\"].iloc[i]  # 질문\n",
    "      answer = data[\"A\"].iloc[i]  # 답변\n",
    "\n",
    "      # 전처리 함수 적용\n",
    "      inputs.append(preprocess_sentence(question))\n",
    "      outputs.append(preprocess_sentence(answer))\n",
    "\n",
    "  return inputs, outputs"
   ]
  },
  {
   "cell_type": "code",
   "execution_count": 6,
   "metadata": {
    "colab": {
     "base_uri": "https://localhost:8080/"
    },
    "id": "ozXXQaXlC3Kz",
    "outputId": "ee78838b-ff96-4798-d98a-4e1eb6b12f78"
   },
   "outputs": [
    {
     "name": "stdout",
     "output_type": "stream",
     "text": [
      "전체 샘플 수 : 11823\n",
      "전체 샘플 수 : 11823\n"
     ]
    }
   ],
   "source": [
    "# 샘플 수 확인\n",
    "\n",
    "questions, answers = load_answer()\n",
    "print('전체 샘플 수 :', len(questions))\n",
    "print('전체 샘플 수 :', len(answers))"
   ]
  },
  {
   "cell_type": "code",
   "execution_count": 7,
   "metadata": {
    "colab": {
     "base_uri": "https://localhost:8080/"
    },
    "id": "paiox9KIOsG4",
    "outputId": "5d924ea4-7bb6-416b-9693-5da504da6e7e"
   },
   "outputs": [
    {
     "name": "stdout",
     "output_type": "stream",
     "text": [
      "전처리 후의 22번째 질문 샘플: 가스비 장난 아님\n",
      "전처리 후의 22번째 답변 샘플: 다음 달에는 더 절약해봐요 .\n"
     ]
    }
   ],
   "source": [
    "# 샘플 확인\n",
    "print('전처리 후의 22번째 질문 샘플: {}'.format(questions[21]))\n",
    "print('전처리 후의 22번째 답변 샘플: {}'.format(answers[21]))"
   ]
  },
  {
   "cell_type": "markdown",
   "metadata": {
    "id": "hwmxqq-aO_Wq"
   },
   "source": [
    "## 4. 병렬 데이터 전처리하기"
   ]
  },
  {
   "cell_type": "markdown",
   "metadata": {
    "id": "tGLVHOUbPLDq"
   },
   "source": [
    "### 단어장 만들기"
   ]
  },
  {
   "cell_type": "code",
   "execution_count": 8,
   "metadata": {
    "id": "Kp7JoaxVOwQ5"
   },
   "outputs": [],
   "source": [
    "import tensorflow_datasets as tfds\n",
    "\n",
    "# 질문과 답변 데이터셋에 대해서 Vocabulary 생성\n",
    "tokenizer = tfds.deprecated.text.SubwordTextEncoder.build_from_corpus(questions + answers, target_vocab_size=2**13)"
   ]
  },
  {
   "cell_type": "code",
   "execution_count": 9,
   "metadata": {
    "colab": {
     "base_uri": "https://localhost:8080/"
    },
    "id": "pV-vbFMNaXJr",
    "outputId": "3d5417a9-ec10-42b0-af64-0cc40044dad5"
   },
   "outputs": [
    {
     "name": "stdout",
     "output_type": "stream",
     "text": [
      "[' .', ' ?', '거예요', '수_', '게_', '너무_', '더_', '거_', '는_', '좋아하는_', ' . ', '이_', '을_', '잘_', '도_', '고_', '요', '것_', '많이_', '안_', '좋은_', '같아요', '좀_', '한_', '있어요', '싶어', '나_', '가_', '있을_', '에_', '해보세요', '지_', '사람_', '은_', '할_', '해', '같아', '네', '면_', '건_', '를_', ' !', '사람이_', '마세요', '다_', '지', '하고_', '  ', '하는_', '보세요', '죠', '어', '서_', '내가_', '다', '내_', '마음이_', '의_', '나', '이제_', '다른_', '썸_', '만_', '그_', '어떻게_', '있는_', '왜_', '싶다', '세요', '다시_', '시간이_', '수도_', '없어', '또_', '것도_', '좋을_', '오늘_', '가', '이', '정말_', '같이_', '네요', '될_', '해요', '자꾸_', '일_', '걸_', '있어', '하세요', '없어요', '길_', '바랄게요', '로_', '제가_', '까', '돼요', '하면_', '봐요', '할까', '이별']\n"
     ]
    }
   ],
   "source": [
    "print(tokenizer.subwords[:100])"
   ]
  },
  {
   "cell_type": "code",
   "execution_count": 10,
   "metadata": {
    "id": "peQq9No0PNms"
   },
   "outputs": [],
   "source": [
    "# 시작 토큰과 종료 토큰에 고유한 정수를 부여합니다.\n",
    "START_TOKEN, END_TOKEN = [tokenizer.vocab_size], [tokenizer.vocab_size + 1]"
   ]
  },
  {
   "cell_type": "code",
   "execution_count": 11,
   "metadata": {
    "colab": {
     "base_uri": "https://localhost:8080/"
    },
    "id": "RGfktvEDPU2w",
    "outputId": "0a986689-46d5-42ac-9c71-13d94fa64385"
   },
   "outputs": [
    {
     "name": "stdout",
     "output_type": "stream",
     "text": [
      "START_TOKEN의 번호 : [8140]\n",
      "END_TOKEN의 번호 : [8141]\n"
     ]
    }
   ],
   "source": [
    "print('START_TOKEN의 번호 :' ,[tokenizer.vocab_size])\n",
    "print('END_TOKEN의 번호 :' ,[tokenizer.vocab_size + 1])"
   ]
  },
  {
   "cell_type": "code",
   "execution_count": 12,
   "metadata": {
    "colab": {
     "base_uri": "https://localhost:8080/"
    },
    "id": "s2hzc8s7PYzk",
    "outputId": "741930a2-6da1-49ab-9069-9dbe07844c39"
   },
   "outputs": [
    {
     "name": "stdout",
     "output_type": "stream",
     "text": [
      "8142\n"
     ]
    }
   ],
   "source": [
    "# 시작 토큰과 종료 토큰을 고려하여 +2를 하여 단어장의 크기를 산정합니다.\n",
    "VOCAB_SIZE = tokenizer.vocab_size + 2\n",
    "print(VOCAB_SIZE)"
   ]
  },
  {
   "cell_type": "markdown",
   "metadata": {
    "id": "eQyIIXGSPhnf"
   },
   "source": [
    "### 단어 인코딩 & 패딩"
   ]
  },
  {
   "cell_type": "code",
   "execution_count": 13,
   "metadata": {
    "colab": {
     "base_uri": "https://localhost:8080/"
    },
    "id": "D01ITfg3Papp",
    "outputId": "c5e1ba6b-a1dc-45b9-b180-1834b31a36ef"
   },
   "outputs": [
    {
     "name": "stdout",
     "output_type": "stream",
     "text": [
      "정수 인코딩 후의 21번째 질문 샘플: [5755, 613, 2494, 4160]\n",
      "정수 인코딩 후의 21번째 답변 샘플: [2361, 7492, 7, 6257, 98, 1]\n"
     ]
    }
   ],
   "source": [
    "# 임의의 22번째 샘플에 대해서 정수 인코딩 작업을 수행.\n",
    "# 각 토큰을 고유한 정수로 변환\n",
    "print('정수 인코딩 후의 21번째 질문 샘플: {}'.format(tokenizer.encode(questions[21])))\n",
    "print('정수 인코딩 후의 21번째 답변 샘플: {}'.format(tokenizer.encode(answers[21])))"
   ]
  },
  {
   "cell_type": "code",
   "execution_count": 14,
   "metadata": {},
   "outputs": [
    {
     "name": "stdout",
     "output_type": "stream",
     "text": [
      "문장길이 평균 :  14.620231751670472\n",
      "문장길이 최대 :  78\n",
      "문장길이 표준편차 :  6.743414533008147\n",
      "pad_sequences maxlen :  28\n",
      "전체 문장의 0.9617694324621501%가 maxlen 설정값 이내에 포함됩니다. \n"
     ]
    }
   ],
   "source": [
    "# maxlen 계산하기\n",
    "\n",
    "total_data_text = list(questions) + list(answers)\n",
    "num_tokens = [len(tokens) for tokens in total_data_text]\n",
    "num_tokens = np.array(num_tokens)\n",
    "print('문장길이 평균 : ', np.mean(num_tokens))\n",
    "print('문장길이 최대 : ', np.max(num_tokens))\n",
    "print('문장길이 표준편차 : ', np.std(num_tokens))\n",
    " \n",
    "max_tokens = np.mean(num_tokens) + 2 * np.std(num_tokens)\n",
    "maxlen = int(max_tokens)\n",
    "print('pad_sequences maxlen : ', maxlen)\n",
    "print(f'전체 문장의 {np.sum(num_tokens < max_tokens) / len(num_tokens)}%가 maxlen 설정값 이내에 포함됩니다. ')"
   ]
  },
  {
   "cell_type": "code",
   "execution_count": 15,
   "metadata": {
    "colab": {
     "base_uri": "https://localhost:8080/"
    },
    "id": "aOdQ-8pNPrtu",
    "outputId": "d4769a5b-f4e4-47e7-d9ca-2957eee6941b"
   },
   "outputs": [
    {
     "name": "stdout",
     "output_type": "stream",
     "text": [
      "28\n"
     ]
    }
   ],
   "source": [
    "# 샘플의 최대 허용 길이 또는 패딩 후의 최종 길이\n",
    "MAX_LENGTH = 28\n",
    "print(MAX_LENGTH)"
   ]
  },
  {
   "cell_type": "code",
   "execution_count": 16,
   "metadata": {
    "id": "25GWI79NPzcv"
   },
   "outputs": [],
   "source": [
    "# 정수 인코딩, 최대 길이를 초과하는 샘플 제거, 패딩\n",
    "def tokenize_and_filter(inputs, outputs):\n",
    "  tokenized_inputs, tokenized_outputs = [], []\n",
    "\n",
    "  for (sentence1, sentence2) in zip(inputs, outputs):\n",
    "    # 정수 인코딩 과정에서 시작 토큰과 종료 토큰을 추가\n",
    "    sentence1 = START_TOKEN + tokenizer.encode(sentence1) + END_TOKEN\n",
    "    sentence2 = START_TOKEN + tokenizer.encode(sentence2) + END_TOKEN\n",
    "\n",
    "    # 최대 길이 28 이하인 경우에만 데이터셋으로 허용\n",
    "    if len(sentence1) <= MAX_LENGTH and len(sentence2) <= MAX_LENGTH:\n",
    "      tokenized_inputs.append(sentence1)\n",
    "      tokenized_outputs.append(sentence2)\n",
    "\n",
    "  # 최대 길이 28으로 모든 데이터셋을 패딩\n",
    "  tokenized_inputs = tf.keras.preprocessing.sequence.pad_sequences(\n",
    "      tokenized_inputs, maxlen=MAX_LENGTH, padding='post')\n",
    "  tokenized_outputs = tf.keras.preprocessing.sequence.pad_sequences(\n",
    "      tokenized_outputs, maxlen=MAX_LENGTH, padding='post')\n",
    "\n",
    "  return tokenized_inputs, tokenized_outputs"
   ]
  },
  {
   "cell_type": "code",
   "execution_count": 17,
   "metadata": {
    "colab": {
     "base_uri": "https://localhost:8080/",
     "height": 391
    },
    "id": "QlC7bZkAP7W_",
    "outputId": "22f1a20e-3481-43db-b4f1-93363634efb0"
   },
   "outputs": [
    {
     "name": "stdout",
     "output_type": "stream",
     "text": [
      "단어장의 크기 : 8142\n",
      "필터링 후의 질문 샘플 개수: 11821\n",
      "필터링 후의 답변 샘플 개수: 11821\n"
     ]
    }
   ],
   "source": [
    "questions, answers = tokenize_and_filter(questions, answers)\n",
    "print('단어장의 크기 :',(VOCAB_SIZE))\n",
    "print('필터링 후의 질문 샘플 개수: {}'.format(len(questions)))\n",
    "print('필터링 후의 답변 샘플 개수: {}'.format(len(answers)))"
   ]
  },
  {
   "cell_type": "markdown",
   "metadata": {
    "id": "I8jCI-f3QExO"
   },
   "source": [
    "### 교사 강요 사용하기  \n",
    "교사 강요를 하지 않은 경우, 잘못된 예측이 다음 시점(time step)의 입력으로 들어가면서 연쇄적으로 예측 정확도에 영향을 미친다."
   ]
  },
  {
   "cell_type": "code",
   "execution_count": 18,
   "metadata": {
    "id": "XBEgodeKP-od"
   },
   "outputs": [
    {
     "name": "stdout",
     "output_type": "stream",
     "text": [
      "(11821, 28)\n",
      "(11821, 27)\n",
      "(11821, 27)\n"
     ]
    }
   ],
   "source": [
    "BATCH_SIZE = 64\n",
    "# 작업 시에 CPU가 처리하는 정보의 양\n",
    "BUFFER_SIZE = 5000\n",
    "\n",
    "# 디코더는 이전의 target을 다음의 input으로 사용합니다.\n",
    "# 이에 따라 outputs에서는 START_TOKEN을 제거하겠습니다.\n",
    "dataset = tf.data.Dataset.from_tensor_slices((\n",
    "    {\n",
    "        'inputs': questions,\n",
    "        'dec_inputs': answers[:, :-1]\n",
    "    },\n",
    "    {\n",
    "        'outputs': answers[:, 1:]\n",
    "    },\n",
    "))\n",
    "\n",
    "dataset = dataset.cache()\n",
    "dataset = dataset.shuffle(BUFFER_SIZE)\n",
    "dataset = dataset.batch(BATCH_SIZE)\n",
    "dataset = dataset.prefetch(tf.data.experimental.AUTOTUNE)\n",
    "\n",
    "# inputs, outputs shape 확인\n",
    "print(questions.shape)\n",
    "print(answers[:, :-1].shape)\n",
    "print(answers[:, 1:].shape)"
   ]
  },
  {
   "cell_type": "markdown",
   "metadata": {
    "id": "-S6kz-8kQUW0"
   },
   "source": [
    "## 5. 모델 정의"
   ]
  },
  {
   "cell_type": "markdown",
   "metadata": {
    "id": "rLQa5V66RHH2"
   },
   "source": [
    "### 포지셔널 인코딩"
   ]
  },
  {
   "cell_type": "code",
   "execution_count": 19,
   "metadata": {
    "id": "Ru4z_v0xRJZ6"
   },
   "outputs": [],
   "source": [
    "# 포지셔널 인코딩 레이어\n",
    "class PositionalEncoding(tf.keras.layers.Layer):\n",
    "\n",
    "  def __init__(self, position, d_model):\n",
    "    super(PositionalEncoding, self).__init__()\n",
    "    self.pos_encoding = self.positional_encoding(position, d_model)\n",
    "    \n",
    "\n",
    "  def get_angles(self, position, i, d_model):\n",
    "    angles = 1 / tf.pow(10000, (2 * (i // 2)) / tf.cast(d_model, tf.float32))\n",
    "    return position * angles\n",
    "\n",
    "\n",
    "  def positional_encoding(self, position, d_model):\n",
    "    # 각도 배열 생성\n",
    "    angle_rads = self.get_angles(\n",
    "        position=tf.range(position, dtype=tf.float32)[:, tf.newaxis],\n",
    "        i=tf.range(d_model, dtype=tf.float32)[tf.newaxis, :],\n",
    "        d_model=d_model)\n",
    "\n",
    "    # 배열의 짝수 인덱스에는 sin 함수 적용\n",
    "    sines = tf.math.sin(angle_rads[:, 0::2])\n",
    "    # 배열의 홀수 인덱스에는 cosine 함수 적용\n",
    "    cosines = tf.math.cos(angle_rads[:, 1::2])\n",
    "\n",
    "    # sin과 cosine이 교차되도록 재배열\n",
    "    pos_encoding = tf.stack([sines, cosines], axis=0)\n",
    "    pos_encoding = tf.transpose(pos_encoding,[1, 2, 0])\n",
    "    pos_encoding = tf.reshape(pos_encoding, [position, d_model])\n",
    "\n",
    "    pos_encoding = pos_encoding[tf.newaxis, ...]\n",
    "    return tf.cast(pos_encoding, tf.float32)\n",
    "\n",
    "  def call(self, inputs):\n",
    "    # 희소 행렬을 덧셈 연산에 맞게 처리\n",
    "    if isinstance(inputs, tf.sparse.SparseTensor):\n",
    "      # SparseTensor에 대해 덧셈 연산을 수행\n",
    "      return tf.sparse.add(inputs, self.pos_encoding[:, :tf.shape(inputs)[1], :])\n",
    "    else:\n",
    "      # 밀집 행렬일 경우 일반 덧셈 처리\n",
    "      return inputs + self.pos_encoding[:, :tf.shape(inputs)[1], :]"
   ]
  },
  {
   "cell_type": "markdown",
   "metadata": {
    "id": "QBb-ND8Ql50D"
   },
   "source": [
    "밀집텐서 희소텐서 오류  \n",
    "\n",
    "변경 전  \n",
    "\n",
    "\n",
    "```\n",
    "  def call(self, inputs):\n",
    "    return inputs + self.pos_encoding[:, :tf.shape(inputs)[1], :]  \n",
    "```\n",
    "\n",
    "\n",
    "변경 후  \n",
    "```\n",
    "  def call(self, inputs):\n",
    "    # 희소 행렬을 덧셈 연산에 맞게 처리\n",
    "    if isinstance(inputs, tf.sparse.SparseTensor):\n",
    "      # SparseTensor에 대해 덧셈 연산을 수행\n",
    "      return tf.sparse.add(inputs, self.pos_encoding[:, :tf.shape(inputs)[1], :])\n",
    "    else:\n",
    "      # 밀집 행렬일 경우 일반 덧셈 처리\n",
    "      return inputs + self.pos_encoding[:, :tf.shape(inputs)[1], :]\n",
    "\n",
    "```"
   ]
  },
  {
   "cell_type": "code",
   "execution_count": 20,
   "metadata": {
    "colab": {
     "base_uri": "https://localhost:8080/",
     "height": 455
    },
    "id": "4QkRgV5fa10S",
    "outputId": "4111c44b-8c05-483f-81c3-e3e1e724f37c"
   },
   "outputs": [
    {
     "data": {
      "image/png": "[encoded data removed]",
      "text/plain": [
       "<Figure size 432x288 with 2 Axes>"
      ]
     },
     "metadata": {
      "needs_background": "light"
     },
     "output_type": "display_data"
    }
   ],
   "source": [
    "# 포지셔닝 벡터 시각화\n",
    "\n",
    "sample_pos_encoding = PositionalEncoding(50,512)\n",
    "\n",
    "plt.pcolormesh(sample_pos_encoding.pos_encoding.numpy()[0], cmap='RdBu')\n",
    "plt.xlabel('Depth')\n",
    "plt.xlim((0, 512))\n",
    "plt.ylabel('Position')\n",
    "plt.colorbar()\n",
    "plt.show()"
   ]
  },
  {
   "cell_type": "markdown",
   "metadata": {
    "id": "8b81IXbfQtTh"
   },
   "source": [
    "### 스케일드 닷 프로덕트 어텐션 함수"
   ]
  },
  {
   "cell_type": "code",
   "execution_count": 21,
   "metadata": {
    "id": "kwSxr0HuQveB"
   },
   "outputs": [],
   "source": [
    "# 스케일드 닷 프로덕트 어텐션 함수\n",
    "def scaled_dot_product_attention(query, key, value, mask):\n",
    "  # 어텐션 가중치는 Q와 K의 닷 프로덕트\n",
    "  matmul_qk = tf.matmul(query, key, transpose_b=True)\n",
    "\n",
    "  # 가중치를 정규화\n",
    "  depth = tf.cast(tf.shape(key)[-1], tf.float32)\n",
    "  logits = matmul_qk / tf.math.sqrt(depth)\n",
    "\n",
    "  # 패딩에 마스크 추가\n",
    "  if mask is not None:\n",
    "    logits += (mask * -1e9)\n",
    "\n",
    "  # softmax적용\n",
    "  attention_weights = tf.nn.softmax(logits, axis=-1)\n",
    "\n",
    "  # 최종 어텐션은 가중치와 V의 닷 프로덕트\n",
    "  output = tf.matmul(attention_weights, value)\n",
    "  return output\n",
    "\n"
   ]
  },
  {
   "cell_type": "markdown",
   "metadata": {
    "id": "LHP86r9UQmSN"
   },
   "source": [
    "### 멀티 헤드 어텐션"
   ]
  },
  {
   "cell_type": "code",
   "execution_count": 22,
   "metadata": {
    "id": "xterbms0QjaN"
   },
   "outputs": [],
   "source": [
    "class MultiHeadAttention(tf.keras.layers.Layer):\n",
    "\n",
    "  def __init__(self, d_model, num_heads, name=\"multi_head_attention\"):\n",
    "    super(MultiHeadAttention, self).__init__(name=name)\n",
    "    self.num_heads = num_heads\n",
    "    self.d_model = d_model\n",
    "\n",
    "    assert d_model % self.num_heads == 0\n",
    "\n",
    "    self.depth = d_model // self.num_heads\n",
    "\n",
    "    self.query_dense = tf.keras.layers.Dense(units=d_model)\n",
    "    self.key_dense = tf.keras.layers.Dense(units=d_model)\n",
    "    self.value_dense = tf.keras.layers.Dense(units=d_model)\n",
    "\n",
    "    self.dense = tf.keras.layers.Dense(units=d_model)\n",
    "\n",
    "  def split_heads(self, inputs, batch_size):\n",
    "    inputs = tf.reshape(\n",
    "        inputs, shape=(batch_size, -1, self.num_heads, self.depth))\n",
    "    return tf.transpose(inputs, perm=[0, 2, 1, 3])\n",
    "\n",
    "  def call(self, inputs):\n",
    "    query, key, value, mask = inputs['query'], inputs['key'], inputs[\n",
    "        'value'], inputs['mask']\n",
    "    batch_size = tf.shape(query)[0]\n",
    "\n",
    "    # Q, K, V에 각각 Dense를 적용합니다\n",
    "    query = self.query_dense(query)\n",
    "    key = self.key_dense(key)\n",
    "    value = self.value_dense(value)\n",
    "\n",
    "    # 병렬 연산을 위한 머리를 여러 개 만듭니다\n",
    "    query = self.split_heads(query, batch_size)\n",
    "    key = self.split_heads(key, batch_size)\n",
    "    value = self.split_heads(value, batch_size)\n",
    "\n",
    "    # 스케일드 닷 프로덕트 어텐션 함수\n",
    "    scaled_attention = scaled_dot_product_attention(query, key, value, mask)\n",
    "\n",
    "    scaled_attention = tf.transpose(scaled_attention, perm=[0, 2, 1, 3])\n",
    "\n",
    "    # 어텐션 연산 후에 각 결과를 다시 연결(concatenate)합니다\n",
    "    concat_attention = tf.reshape(scaled_attention,\n",
    "                                  (batch_size, -1, self.d_model))\n",
    "\n",
    "    # 최종 결과에도 Dense를 한 번 더 적용합니다\n",
    "    outputs = self.dense(concat_attention)\n",
    "\n",
    "    return outputs\n"
   ]
  },
  {
   "cell_type": "markdown",
   "metadata": {
    "id": "U-MAnHJjRjTn"
   },
   "source": [
    "### 패딩 마스킹 구현"
   ]
  },
  {
   "cell_type": "code",
   "execution_count": 23,
   "metadata": {
    "id": "nXlOI1KrRm3S"
   },
   "outputs": [],
   "source": [
    "def create_padding_mask(x):\n",
    "  mask = tf.cast(tf.math.equal(x, 0), tf.float32)\n",
    "  # (batch_size, 1, 1, sequence length)\n",
    "  return mask[:, tf.newaxis, tf.newaxis, :]"
   ]
  },
  {
   "cell_type": "markdown",
   "metadata": {
    "id": "nhR1mImfRqP4"
   },
   "source": [
    "### 룩 어헤드 마스킹 구현"
   ]
  },
  {
   "cell_type": "code",
   "execution_count": 24,
   "metadata": {
    "id": "K5eoSAFnRskb"
   },
   "outputs": [],
   "source": [
    "def create_look_ahead_mask(x):\n",
    "  seq_len = tf.shape(x)[1]\n",
    "  look_ahead_mask = 1 - tf.linalg.band_part(tf.ones((seq_len, seq_len)), -1, 0)\n",
    "  padding_mask = create_padding_mask(x)\n",
    "  return tf.maximum(look_ahead_mask, padding_mask)"
   ]
  },
  {
   "cell_type": "markdown",
   "metadata": {
    "id": "CTRU09UwQZZG"
   },
   "source": [
    "### 인코더 층"
   ]
  },
  {
   "cell_type": "code",
   "execution_count": 25,
   "metadata": {
    "id": "I0D63Y0qQNVt"
   },
   "outputs": [],
   "source": [
    "# 인코더 하나의 레이어를 함수로 구현.\n",
    "# 이 하나의 레이어 안에는 두 개의 서브 레이어가 존재합니다.\n",
    "def encoder_layer(units, d_model, num_heads, dropout, name=\"encoder_layer\"):\n",
    "  inputs = tf.keras.Input(shape=(None, d_model), name=\"inputs\")\n",
    "\n",
    "  # 패딩 마스크 사용\n",
    "  padding_mask = tf.keras.Input(shape=(1, 1, None), name=\"padding_mask\")\n",
    "\n",
    "  # 첫 번째 서브 레이어 : 멀티 헤드 어텐션 수행 (셀프 어텐션)\n",
    "  attention = MultiHeadAttention(\n",
    "      d_model, num_heads, name=\"attention\")({\n",
    "          'query': inputs,\n",
    "          'key': inputs,\n",
    "          'value': inputs,\n",
    "          'mask': padding_mask\n",
    "      })\n",
    "\n",
    "  # 어텐션의 결과는 Dropout과 Layer Normalization이라는 훈련을 돕는 테크닉을 수행\n",
    "  attention = tf.keras.layers.Dropout(rate=dropout)(attention)\n",
    "  attention = tf.keras.layers.LayerNormalization(\n",
    "      epsilon=1e-6)(inputs + attention)\n",
    "\n",
    "  # 두 번째 서브 레이어 : 2개의 완전연결층\n",
    "  outputs = tf.keras.layers.Dense(units=units, activation='relu')(attention)\n",
    "  outputs = tf.keras.layers.Dense(units=d_model)(outputs)\n",
    "\n",
    "  # 완전연결층의 결과는 Dropout과 LayerNormalization이라는 훈련을 돕는 테크닉을 수행\n",
    "  outputs = tf.keras.layers.Dropout(rate=dropout)(outputs)\n",
    "  outputs = tf.keras.layers.LayerNormalization(\n",
    "      epsilon=1e-6)(attention + outputs)\n",
    "\n",
    "  return tf.keras.Model(\n",
    "      inputs=[inputs, padding_mask], outputs=outputs, name=name)"
   ]
  },
  {
   "cell_type": "markdown",
   "metadata": {
    "id": "QD7ah8ySR5qZ"
   },
   "source": [
    "### 인코더 층 쌓기"
   ]
  },
  {
   "cell_type": "code",
   "execution_count": 26,
   "metadata": {
    "id": "GgRgtUooR5On"
   },
   "outputs": [],
   "source": [
    "def encoder(vocab_size,\n",
    "            num_layers,\n",
    "            units,\n",
    "            d_model,\n",
    "            num_heads,\n",
    "            dropout,\n",
    "            name=\"encoder\"):\n",
    "  inputs = tf.keras.Input(shape=(None,), name=\"inputs\")\n",
    "\n",
    "  # 패딩 마스크 사용\n",
    "  padding_mask = tf.keras.Input(shape=(1, 1, None), name=\"padding_mask\")\n",
    "\n",
    "  # 임베딩 레이어\n",
    "  embeddings = tf.keras.layers.Embedding(vocab_size, d_model)(inputs)\n",
    "  embeddings *= tf.math.sqrt(tf.cast(d_model, tf.float32))\n",
    "\n",
    "  # 포지셔널 인코딩\n",
    "  embeddings = PositionalEncoding(vocab_size, d_model)(embeddings)\n",
    "\n",
    "  outputs = tf.keras.layers.Dropout(rate=dropout)(embeddings)\n",
    "\n",
    "  # num_layers만큼 쌓아올린 인코더의 층.\n",
    "  for i in range(num_layers):\n",
    "    outputs = encoder_layer(\n",
    "        units=units,\n",
    "        d_model=d_model,\n",
    "        num_heads=num_heads,\n",
    "        dropout=dropout,\n",
    "        name=\"encoder_layer_{}\".format(i),\n",
    "    )([outputs, padding_mask])\n",
    "\n",
    "  return tf.keras.Model(\n",
    "      inputs=[inputs, padding_mask], outputs=outputs, name=name)"
   ]
  },
  {
   "cell_type": "markdown",
   "metadata": {
    "id": "fh9G5Ez0Q2ll"
   },
   "source": [
    "### 디코더 층"
   ]
  },
  {
   "cell_type": "code",
   "execution_count": 27,
   "metadata": {
    "id": "ZfrZJNAEQe6f"
   },
   "outputs": [],
   "source": [
    "# 디코더 하나의 레이어를 함수로 구현.\n",
    "# 이 하나의 레이어 안에는 세 개의 서브 레이어가 존재합니다.\n",
    "def decoder_layer(units, d_model, num_heads, dropout, name=\"decoder_layer\"):\n",
    "  inputs = tf.keras.Input(shape=(None, d_model), name=\"inputs\")\n",
    "  enc_outputs = tf.keras.Input(shape=(None, d_model), name=\"encoder_outputs\")\n",
    "  look_ahead_mask = tf.keras.Input(\n",
    "      shape=(1, None, None), name=\"look_ahead_mask\")\n",
    "  padding_mask = tf.keras.Input(shape=(1, 1, None), name='padding_mask')\n",
    "\n",
    "  # 첫 번째 서브 레이어 : 멀티 헤드 어텐션 수행 (셀프 어텐션)\n",
    "  attention1 = MultiHeadAttention(\n",
    "      d_model, num_heads, name=\"attention_1\")(inputs={\n",
    "          'query': inputs,\n",
    "          'key': inputs,\n",
    "          'value': inputs,\n",
    "          'mask': look_ahead_mask\n",
    "      })\n",
    "\n",
    "  # 멀티 헤드 어텐션의 결과는 LayerNormalization이라는 훈련을 돕는 테크닉을 수행\n",
    "  attention1 = tf.keras.layers.LayerNormalization(\n",
    "      epsilon=1e-6)(attention1 + inputs)\n",
    "\n",
    "  # 두 번째 서브 레이어 : 마스크드 멀티 헤드 어텐션 수행 (인코더-디코더 어텐션)\n",
    "  attention2 = MultiHeadAttention(\n",
    "      d_model, num_heads, name=\"attention_2\")(inputs={\n",
    "          'query': attention1,\n",
    "          'key': enc_outputs,\n",
    "          'value': enc_outputs,\n",
    "          'mask': padding_mask\n",
    "      })\n",
    "\n",
    "  # 마스크드 멀티 헤드 어텐션의 결과는\n",
    "  # Dropout과 LayerNormalization이라는 훈련을 돕는 테크닉을 수행\n",
    "  attention2 = tf.keras.layers.Dropout(rate=dropout)(attention2)\n",
    "  attention2 = tf.keras.layers.LayerNormalization(\n",
    "      epsilon=1e-6)(attention2 + attention1)\n",
    "\n",
    "  # 세 번째 서브 레이어 : 2개의 완전연결층\n",
    "  outputs = tf.keras.layers.Dense(units=units, activation='relu')(attention2)\n",
    "  outputs = tf.keras.layers.Dense(units=d_model)(outputs)\n",
    "\n",
    "  # 완전연결층의 결과는 Dropout과 LayerNormalization 수행\n",
    "  outputs = tf.keras.layers.Dropout(rate=dropout)(outputs)\n",
    "  outputs = tf.keras.layers.LayerNormalization(\n",
    "      epsilon=1e-6)(outputs + attention2)\n",
    "\n",
    "  return tf.keras.Model(\n",
    "      inputs=[inputs, enc_outputs, look_ahead_mask, padding_mask],\n",
    "      outputs=outputs,\n",
    "      name=name)"
   ]
  },
  {
   "cell_type": "markdown",
   "metadata": {
    "id": "juN4IY_MQ-ej"
   },
   "source": [
    "### 디코더 층 쌓기"
   ]
  },
  {
   "cell_type": "code",
   "execution_count": 28,
   "metadata": {
    "id": "JSeZnh_WQ4I8"
   },
   "outputs": [],
   "source": [
    "def decoder(vocab_size,\n",
    "            num_layers,\n",
    "            units,\n",
    "            d_model,\n",
    "            num_heads,\n",
    "            dropout,\n",
    "            name='decoder'):\n",
    "  inputs = tf.keras.Input(shape=(None,), name='inputs')\n",
    "  enc_outputs = tf.keras.Input(shape=(None, d_model), name='encoder_outputs')\n",
    "  look_ahead_mask = tf.keras.Input(\n",
    "      shape=(1, None, None), name='look_ahead_mask')\n",
    "\n",
    "  # 패딩 마스크\n",
    "  padding_mask = tf.keras.Input(shape=(1, 1, None), name='padding_mask')\n",
    "\n",
    "  # 임베딩 레이어\n",
    "  embeddings = tf.keras.layers.Embedding(vocab_size, d_model)(inputs)\n",
    "  embeddings *= tf.math.sqrt(tf.cast(d_model, tf.float32))\n",
    "\n",
    "  # 포지셔널 인코딩\n",
    "  embeddings = PositionalEncoding(vocab_size, d_model)(embeddings)\n",
    "\n",
    "  # Dropout이라는 훈련을 돕는 테크닉을 수행\n",
    "  outputs = tf.keras.layers.Dropout(rate=dropout)(embeddings)\n",
    "\n",
    "  for i in range(num_layers):\n",
    "    outputs = decoder_layer(\n",
    "        units=units,\n",
    "        d_model=d_model,\n",
    "        num_heads=num_heads,\n",
    "        dropout=dropout,\n",
    "        name='decoder_layer_{}'.format(i),\n",
    "    )(inputs=[outputs, enc_outputs, look_ahead_mask, padding_mask])\n",
    "\n",
    "  return tf.keras.Model(\n",
    "      inputs=[inputs, enc_outputs, look_ahead_mask, padding_mask],\n",
    "      outputs=outputs,\n",
    "      name=name)"
   ]
  },
  {
   "cell_type": "markdown",
   "metadata": {
    "id": "QCUJBCBlRZSP"
   },
   "source": [
    "### 트랜스포머 함수 정의"
   ]
  },
  {
   "cell_type": "code",
   "execution_count": 29,
   "metadata": {
    "id": "1o865pV-RAEO"
   },
   "outputs": [],
   "source": [
    "def transformer(vocab_size,\n",
    "                num_layers,\n",
    "                units,\n",
    "                d_model,\n",
    "                num_heads,\n",
    "                dropout,\n",
    "                name=\"transformer\"):\n",
    "  inputs = tf.keras.Input(shape=(None,), name=\"inputs\")\n",
    "  dec_inputs = tf.keras.Input(shape=(None,), name=\"dec_inputs\")\n",
    "\n",
    "  # 인코더에서 패딩을 위한 마스크\n",
    "  enc_padding_mask = tf.keras.layers.Lambda(\n",
    "      create_padding_mask, output_shape=(1, 1, None),\n",
    "      name='enc_padding_mask')(inputs)\n",
    "\n",
    "  # 디코더에서 미래의 토큰을 마스크 하기 위해서 사용합니다.\n",
    "  # 내부적으로 패딩 마스크도 포함되어져 있습니다.\n",
    "  look_ahead_mask = tf.keras.layers.Lambda(\n",
    "      create_look_ahead_mask,\n",
    "      output_shape=(1, None, None),\n",
    "      name='look_ahead_mask')(dec_inputs)\n",
    "\n",
    "  # 두 번째 어텐션 블록에서 인코더의 벡터들을 마스킹\n",
    "  # 디코더에서 패딩을 위한 마스크\n",
    "  dec_padding_mask = tf.keras.layers.Lambda(\n",
    "      create_padding_mask, output_shape=(1, 1, None),\n",
    "      name='dec_padding_mask')(inputs)\n",
    "\n",
    "  # 인코더\n",
    "  enc_outputs = encoder(\n",
    "      vocab_size=vocab_size,\n",
    "      num_layers=num_layers,\n",
    "      units=units,\n",
    "      d_model=d_model,\n",
    "      num_heads=num_heads,\n",
    "      dropout=dropout,\n",
    "  )(inputs=[inputs, enc_padding_mask])\n",
    "\n",
    "  # 디코더\n",
    "  dec_outputs = decoder(\n",
    "      vocab_size=vocab_size,\n",
    "      num_layers=num_layers,\n",
    "      units=units,\n",
    "      d_model=d_model,\n",
    "      num_heads=num_heads,\n",
    "      dropout=dropout,\n",
    "  )(inputs=[dec_inputs, enc_outputs, look_ahead_mask, dec_padding_mask])\n",
    "\n",
    "  # 완전연결층\n",
    "  outputs = tf.keras.layers.Dense(units=vocab_size, name=\"outputs\")(dec_outputs)\n",
    "\n",
    "  return tf.keras.Model(inputs=[inputs, dec_inputs], outputs=outputs, name=name)"
   ]
  },
  {
   "cell_type": "markdown",
   "metadata": {
    "id": "FhA8cegwSBgO"
   },
   "source": [
    "## 6. 모델 생성"
   ]
  },
  {
   "cell_type": "code",
   "execution_count": 47,
   "metadata": {
    "colab": {
     "base_uri": "https://localhost:8080/",
     "height": 463
    },
    "id": "_GqVNWjoR9RQ",
    "outputId": "a62bc7d7-077a-4c09-876b-2e94f0f88adb"
   },
   "outputs": [
    {
     "name": "stdout",
     "output_type": "stream",
     "text": [
      "Model: \"transformer\"\n",
      "__________________________________________________________________________________________________\n",
      "Layer (type)                    Output Shape         Param #     Connected to                     \n",
      "==================================================================================================\n",
      "inputs (InputLayer)             [(None, None)]       0                                            \n",
      "__________________________________________________________________________________________________\n",
      "dec_inputs (InputLayer)         [(None, None)]       0                                            \n",
      "__________________________________________________________________________________________________\n",
      "enc_padding_mask (Lambda)       (None, 1, 1, None)   0           inputs[0][0]                     \n",
      "__________________________________________________________________________________________________\n",
      "encoder (Functional)            (None, None, 256)    3138560     inputs[0][0]                     \n",
      "                                                                 enc_padding_mask[0][0]           \n",
      "__________________________________________________________________________________________________\n",
      "look_ahead_mask (Lambda)        (None, 1, None, None 0           dec_inputs[0][0]                 \n",
      "__________________________________________________________________________________________________\n",
      "dec_padding_mask (Lambda)       (None, 1, 1, None)   0           inputs[0][0]                     \n",
      "__________________________________________________________________________________________________\n",
      "decoder (Functional)            (None, None, 256)    3665920     dec_inputs[0][0]                 \n",
      "                                                                 encoder[0][0]                    \n",
      "                                                                 look_ahead_mask[0][0]            \n",
      "                                                                 dec_padding_mask[0][0]           \n",
      "__________________________________________________________________________________________________\n",
      "outputs (Dense)                 (None, None, 8142)   2092494     decoder[0][0]                    \n",
      "==================================================================================================\n",
      "Total params: 8,896,974\n",
      "Trainable params: 8,896,974\n",
      "Non-trainable params: 0\n",
      "__________________________________________________________________________________________________\n"
     ]
    }
   ],
   "source": [
    "tf.keras.backend.clear_session()\n",
    "\n",
    "# 하이퍼파라미터\n",
    "NUM_LAYERS = 2 # 인코더와 디코더의 층의 개수\n",
    "D_MODEL = 256 # 인코더와 디코더 내부의 입, 출력의 고정 차원\n",
    "NUM_HEADS = 8 # 멀티 헤드 어텐션에서의 헤드 수\n",
    "UNITS = 512 # 피드 포워드 신경망의 은닉층의 크기\n",
    "DROPOUT = 0.1 # 드롭아웃의 비율\n",
    "\n",
    "model = transformer(\n",
    "    vocab_size=VOCAB_SIZE,\n",
    "    num_layers=NUM_LAYERS,\n",
    "    units=UNITS,\n",
    "    d_model=D_MODEL,\n",
    "    num_heads=NUM_HEADS,\n",
    "    dropout=DROPOUT)\n",
    "\n",
    "model.summary()"
   ]
  },
  {
   "cell_type": "markdown",
   "metadata": {
    "id": "8bzkNnVWWM9A"
   },
   "source": [
    "### 손실 함수"
   ]
  },
  {
   "cell_type": "code",
   "execution_count": 48,
   "metadata": {
    "id": "UkZA5kI5SEtY"
   },
   "outputs": [],
   "source": [
    "def loss_function(y_true, y_pred):\n",
    "  y_true = tf.reshape(y_true, shape=(-1, MAX_LENGTH - 1))\n",
    "\n",
    "  loss = tf.keras.losses.SparseCategoricalCrossentropy(\n",
    "      from_logits=True, reduction='none')(y_true, y_pred)\n",
    "\n",
    "  mask = tf.cast(tf.not_equal(y_true, 0), tf.float32)\n",
    "  loss = tf.multiply(loss, mask)\n",
    "\n",
    "  return tf.reduce_mean(loss)"
   ]
  },
  {
   "cell_type": "markdown",
   "metadata": {
    "id": "iVK7VnTwWSlK"
   },
   "source": [
    "### 커스텀 된 학습률 (아담 옵티마이저 사용)"
   ]
  },
  {
   "cell_type": "code",
   "execution_count": 49,
   "metadata": {
    "id": "PJYN49upWOf9"
   },
   "outputs": [],
   "source": [
    "class CustomSchedule(tf.keras.optimizers.schedules.LearningRateSchedule):\n",
    "\n",
    "  def __init__(self, d_model, warmup_steps=4000):\n",
    "    super(CustomSchedule, self).__init__()\n",
    "\n",
    "    self.d_model = d_model\n",
    "    self.d_model = tf.cast(self.d_model, tf.float32)\n",
    "\n",
    "    self.warmup_steps = warmup_steps\n",
    "\n",
    "  def __call__(self, step):\n",
    "    arg1 = tf.math.rsqrt(step)\n",
    "    arg2 = step * (self.warmup_steps**-1.5)\n",
    "\n",
    "    return tf.math.rsqrt(self.d_model) * tf.math.minimum(arg1, arg2)"
   ]
  },
  {
   "cell_type": "code",
   "execution_count": 50,
   "metadata": {
    "colab": {
     "base_uri": "https://localhost:8080/",
     "height": 466
    },
    "id": "m_IETlO3WVjt",
    "outputId": "d7cb7c47-a4c3-4728-d1ea-05bdf674088f"
   },
   "outputs": [
    {
     "data": {
      "text/plain": [
       "Text(0.5, 0, 'Train Step')"
      ]
     },
     "execution_count": 50,
     "metadata": {},
     "output_type": "execute_result"
    },
    {
     "data": {
      "image/png": "[encoded data removed]",
      "text/plain": [
       "<Figure size 432x288 with 1 Axes>"
      ]
     },
     "metadata": {
      "needs_background": "light"
     },
     "output_type": "display_data"
    }
   ],
   "source": [
    "sample_learning_rate = CustomSchedule(d_model=128)\n",
    "\n",
    "plt.plot(sample_learning_rate(tf.range(200000, dtype=tf.float32)))\n",
    "plt.ylabel(\"Learning Rate\")\n",
    "plt.xlabel(\"Train Step\")"
   ]
  },
  {
   "cell_type": "markdown",
   "metadata": {
    "id": "3NBsnvWFWcjh"
   },
   "source": [
    "## 7. 모델 컴파일"
   ]
  },
  {
   "cell_type": "code",
   "execution_count": 51,
   "metadata": {
    "id": "mAZ6RTpiWZmL"
   },
   "outputs": [],
   "source": [
    "learning_rate = CustomSchedule(D_MODEL)\n",
    "\n",
    "optimizer = tf.keras.optimizers.Adam(\n",
    "    learning_rate, beta_1=0.9, beta_2=0.98, epsilon=1e-9)\n",
    "\n",
    "def accuracy(y_true, y_pred):\n",
    "  y_true = tf.reshape(y_true, shape=(-1, MAX_LENGTH - 1))\n",
    "  return tf.keras.metrics.sparse_categorical_accuracy(y_true, y_pred)\n",
    "\n",
    "model.compile(optimizer=optimizer, loss=loss_function, metrics=[accuracy])"
   ]
  },
  {
   "cell_type": "markdown",
   "metadata": {
    "id": "VH9f5YkIgZ9w"
   },
   "source": [
    "## 8. 모델 학습"
   ]
  },
  {
   "cell_type": "code",
   "execution_count": 52,
   "metadata": {},
   "outputs": [
    {
     "name": "stdout",
     "output_type": "stream",
     "text": [
      "(9457, 28)\n",
      "(9457, 27)\n",
      "(9457, 27)\n"
     ]
    }
   ],
   "source": [
    "#validation data 만들기\n",
    "\n",
    "BATCH_SIZE = 64\n",
    "BUFFER_SIZE = 5000     # 작업 시에 CPU가 처리하는 정보의 양\n",
    "\n",
    "# 디코더는 이전의 target을 다음의 input으로 사용합니다.\n",
    "# 이에 따라 outputs에서는 START_TOKEN을 제거하겠습니다.\n",
    "\n",
    "val_ratio = int(len(data) * 0.2)\n",
    "val_dataset = tf.data.Dataset.from_tensor_slices((\n",
    "    {\n",
    "        'inputs': questions[:val_ratio],\n",
    "        'dec_inputs': answers[:val_ratio, :-1]\n",
    "    },\n",
    "    {\n",
    "        'outputs': answers[:val_ratio, 1:]\n",
    "    },\n",
    "))\n",
    "\n",
    "train_dataset = tf.data.Dataset.from_tensor_slices((\n",
    "    {\n",
    "        'inputs': questions[val_ratio:],\n",
    "        'dec_inputs': answers[val_ratio:, :-1]\n",
    "    },\n",
    "    {\n",
    "        'outputs': answers[val_ratio:, 1:]\n",
    "    },\n",
    "))\n",
    "\n",
    "val_dataset = val_dataset.cache()\n",
    "val_dataset = val_dataset.shuffle(BUFFER_SIZE)\n",
    "val_dataset = val_dataset.batch(BATCH_SIZE)\n",
    "val_dataset = val_dataset.prefetch(tf.data.experimental.AUTOTUNE)\n",
    "\n",
    "train_dataset = train_dataset.cache()\n",
    "train_dataset = train_dataset.shuffle(BUFFER_SIZE)\n",
    "train_dataset = train_dataset.batch(BATCH_SIZE)\n",
    "train_dataset = train_dataset.prefetch(tf.data.experimental.AUTOTUNE)\n",
    "\n",
    "# train dataset shape 확인\n",
    "print(questions[val_ratio:].shape)\n",
    "print(answers[val_ratio:, :-1].shape)\n",
    "print(answers[val_ratio:, 1:].shape)"
   ]
  },
  {
   "cell_type": "code",
   "execution_count": 54,
   "metadata": {
    "colab": {
     "base_uri": "https://localhost:8080/",
     "height": 321
    },
    "id": "KhbTHJ5pWeZ_",
    "outputId": "067720ab-22e4-46fd-aeeb-894f80a341f5",
    "scrolled": true
   },
   "outputs": [
    {
     "name": "stdout",
     "output_type": "stream",
     "text": [
      "Epoch 1/50\n",
      "148/148 [==============================] - 15s 58ms/step - loss: 2.1709 - accuracy: 0.0331 - val_loss: 1.7924 - val_accuracy: 0.0448\n",
      "Epoch 2/50\n",
      "148/148 [==============================] - 7s 50ms/step - loss: 1.8507 - accuracy: 0.0667 - val_loss: 1.5024 - val_accuracy: 0.0692\n",
      "Epoch 3/50\n",
      "148/148 [==============================] - 7s 50ms/step - loss: 1.5745 - accuracy: 0.0722 - val_loss: 1.3408 - val_accuracy: 0.0707\n",
      "Epoch 4/50\n",
      "148/148 [==============================] - 8s 51ms/step - loss: 1.4364 - accuracy: 0.0754 - val_loss: 1.2823 - val_accuracy: 0.0745\n",
      "Epoch 5/50\n",
      "148/148 [==============================] - 7s 51ms/step - loss: 1.3541 - accuracy: 0.0802 - val_loss: 1.2472 - val_accuracy: 0.0767\n",
      "Epoch 6/50\n",
      "148/148 [==============================] - 7s 51ms/step - loss: 1.2789 - accuracy: 0.0841 - val_loss: 1.2216 - val_accuracy: 0.0794\n",
      "Epoch 7/50\n",
      "148/148 [==============================] - 7s 51ms/step - loss: 1.2024 - accuracy: 0.0896 - val_loss: 1.1961 - val_accuracy: 0.0818\n",
      "Epoch 8/50\n",
      "148/148 [==============================] - 7s 51ms/step - loss: 1.1186 - accuracy: 0.0971 - val_loss: 1.1797 - val_accuracy: 0.0845\n",
      "Epoch 9/50\n",
      "148/148 [==============================] - 7s 50ms/step - loss: 1.0280 - accuracy: 0.1069 - val_loss: 1.1600 - val_accuracy: 0.0873\n",
      "Epoch 10/50\n",
      "148/148 [==============================] - 7s 50ms/step - loss: 0.9291 - accuracy: 0.1178 - val_loss: 1.1352 - val_accuracy: 0.0911\n",
      "Epoch 11/50\n",
      "148/148 [==============================] - 7s 50ms/step - loss: 0.8260 - accuracy: 0.1297 - val_loss: 1.1320 - val_accuracy: 0.0927\n",
      "Epoch 12/50\n",
      "148/148 [==============================] - 7s 51ms/step - loss: 0.7194 - accuracy: 0.1423 - val_loss: 1.1143 - val_accuracy: 0.0962\n",
      "Epoch 13/50\n",
      "148/148 [==============================] - 7s 51ms/step - loss: 0.6121 - accuracy: 0.1558 - val_loss: 1.1246 - val_accuracy: 0.0983\n",
      "Epoch 14/50\n",
      "148/148 [==============================] - 7s 50ms/step - loss: 0.5067 - accuracy: 0.1705 - val_loss: 1.1369 - val_accuracy: 0.0988\n",
      "Epoch 15/50\n",
      "148/148 [==============================] - 7s 50ms/step - loss: 0.4082 - accuracy: 0.1853 - val_loss: 1.1540 - val_accuracy: 0.1017\n",
      "Epoch 16/50\n",
      "148/148 [==============================] - 8s 51ms/step - loss: 0.3183 - accuracy: 0.1992 - val_loss: 1.1716 - val_accuracy: 0.1043\n",
      "Epoch 17/50\n",
      "148/148 [==============================] - 7s 50ms/step - loss: 0.2373 - accuracy: 0.2145 - val_loss: 1.2017 - val_accuracy: 0.1063\n",
      "Epoch 18/50\n",
      "148/148 [==============================] - 7s 50ms/step - loss: 0.1730 - accuracy: 0.2263 - val_loss: 1.2450 - val_accuracy: 0.1070\n",
      "Epoch 19/50\n",
      "148/148 [==============================] - 7s 50ms/step - loss: 0.1237 - accuracy: 0.2351 - val_loss: 1.2765 - val_accuracy: 0.1088\n",
      "Epoch 20/50\n",
      "148/148 [==============================] - 7s 50ms/step - loss: 0.0892 - accuracy: 0.2414 - val_loss: 1.3043 - val_accuracy: 0.1095\n",
      "Epoch 21/50\n",
      "148/148 [==============================] - 7s 50ms/step - loss: 0.0692 - accuracy: 0.2445 - val_loss: 1.3573 - val_accuracy: 0.1086\n",
      "Epoch 22/50\n",
      "148/148 [==============================] - 7s 50ms/step - loss: 0.0598 - accuracy: 0.2454 - val_loss: 1.3902 - val_accuracy: 0.1097\n",
      "Epoch 23/50\n",
      "148/148 [==============================] - 7s 50ms/step - loss: 0.0538 - accuracy: 0.2463 - val_loss: 1.4198 - val_accuracy: 0.1097\n",
      "Epoch 24/50\n",
      "148/148 [==============================] - 7s 50ms/step - loss: 0.0491 - accuracy: 0.2467 - val_loss: 1.4446 - val_accuracy: 0.1100\n",
      "Epoch 25/50\n",
      "148/148 [==============================] - 7s 50ms/step - loss: 0.0460 - accuracy: 0.2472 - val_loss: 1.4948 - val_accuracy: 0.1101\n",
      "Epoch 26/50\n",
      "148/148 [==============================] - 7s 50ms/step - loss: 0.0455 - accuracy: 0.2470 - val_loss: 1.5059 - val_accuracy: 0.1090\n",
      "Epoch 27/50\n",
      "148/148 [==============================] - 7s 50ms/step - loss: 0.0449 - accuracy: 0.2471 - val_loss: 1.5283 - val_accuracy: 0.1094\n",
      "Epoch 28/50\n",
      "148/148 [==============================] - 7s 50ms/step - loss: 0.0429 - accuracy: 0.2475 - val_loss: 1.5260 - val_accuracy: 0.1095\n",
      "Epoch 29/50\n",
      "148/148 [==============================] - 7s 50ms/step - loss: 0.0386 - accuracy: 0.2484 - val_loss: 1.5443 - val_accuracy: 0.1109\n",
      "Epoch 30/50\n",
      "148/148 [==============================] - 7s 50ms/step - loss: 0.0337 - accuracy: 0.2497 - val_loss: 1.5671 - val_accuracy: 0.1096\n",
      "Epoch 31/50\n",
      "148/148 [==============================] - 7s 50ms/step - loss: 0.0307 - accuracy: 0.2504 - val_loss: 1.5839 - val_accuracy: 0.1103\n",
      "Epoch 32/50\n",
      "148/148 [==============================] - 7s 50ms/step - loss: 0.0290 - accuracy: 0.2507 - val_loss: 1.6036 - val_accuracy: 0.1109\n",
      "Epoch 33/50\n",
      "148/148 [==============================] - 7s 50ms/step - loss: 0.0249 - accuracy: 0.2519 - val_loss: 1.6143 - val_accuracy: 0.1110\n",
      "Epoch 34/50\n",
      "148/148 [==============================] - 7s 50ms/step - loss: 0.0242 - accuracy: 0.2521 - val_loss: 1.6220 - val_accuracy: 0.1113\n",
      "Epoch 35/50\n",
      "148/148 [==============================] - 7s 50ms/step - loss: 0.0228 - accuracy: 0.2523 - val_loss: 1.6324 - val_accuracy: 0.1111\n",
      "Epoch 36/50\n",
      "148/148 [==============================] - 7s 50ms/step - loss: 0.0202 - accuracy: 0.2531 - val_loss: 1.6314 - val_accuracy: 0.1121\n",
      "Epoch 37/50\n",
      "148/148 [==============================] - 7s 50ms/step - loss: 0.0196 - accuracy: 0.2532 - val_loss: 1.6363 - val_accuracy: 0.1113\n",
      "Epoch 38/50\n",
      "148/148 [==============================] - 7s 50ms/step - loss: 0.0180 - accuracy: 0.2536 - val_loss: 1.6477 - val_accuracy: 0.1110\n",
      "Epoch 39/50\n",
      "148/148 [==============================] - 7s 50ms/step - loss: 0.0174 - accuracy: 0.2536 - val_loss: 1.6579 - val_accuracy: 0.1125\n",
      "Epoch 40/50\n",
      "148/148 [==============================] - 7s 50ms/step - loss: 0.0167 - accuracy: 0.2540 - val_loss: 1.6604 - val_accuracy: 0.1116\n",
      "Epoch 41/50\n",
      "148/148 [==============================] - 7s 50ms/step - loss: 0.0148 - accuracy: 0.2543 - val_loss: 1.6681 - val_accuracy: 0.1125\n",
      "Epoch 42/50\n",
      "148/148 [==============================] - 7s 50ms/step - loss: 0.0149 - accuracy: 0.2544 - val_loss: 1.6764 - val_accuracy: 0.1115\n",
      "Epoch 43/50\n",
      "148/148 [==============================] - 7s 50ms/step - loss: 0.0139 - accuracy: 0.2545 - val_loss: 1.6799 - val_accuracy: 0.1122\n",
      "Epoch 44/50\n",
      "148/148 [==============================] - 8s 51ms/step - loss: 0.0127 - accuracy: 0.2549 - val_loss: 1.6921 - val_accuracy: 0.1119\n",
      "Epoch 45/50\n",
      "148/148 [==============================] - 7s 50ms/step - loss: 0.0125 - accuracy: 0.2550 - val_loss: 1.6962 - val_accuracy: 0.1120\n",
      "Epoch 46/50\n",
      "148/148 [==============================] - 7s 50ms/step - loss: 0.0121 - accuracy: 0.2550 - val_loss: 1.7092 - val_accuracy: 0.1122\n",
      "Epoch 47/50\n",
      "148/148 [==============================] - 7s 50ms/step - loss: 0.0112 - accuracy: 0.2552 - val_loss: 1.7013 - val_accuracy: 0.1115\n",
      "Epoch 48/50\n",
      "148/148 [==============================] - 7s 50ms/step - loss: 0.0108 - accuracy: 0.2553 - val_loss: 1.7041 - val_accuracy: 0.1124\n",
      "Epoch 49/50\n",
      "148/148 [==============================] - 7s 50ms/step - loss: 0.0102 - accuracy: 0.2554 - val_loss: 1.7043 - val_accuracy: 0.1128\n",
      "Epoch 50/50\n",
      "148/148 [==============================] - 7s 50ms/step - loss: 0.0103 - accuracy: 0.2555 - val_loss: 1.7055 - val_accuracy: 0.1128\n"
     ]
    }
   ],
   "source": [
    "EPOCHS = 50\n",
    "\n",
    "hist = model.fit(train_dataset,\n",
    "                 epochs=EPOCHS,\n",
    "                 validation_data=val_dataset,\n",
    "                 verbose=1)"
   ]
  },
  {
   "cell_type": "code",
   "execution_count": 55,
   "metadata": {},
   "outputs": [
    {
     "data": {
      "image/png": "[encoded data removed]",
      "text/plain": [
       "<Figure size 720x576 with 2 Axes>"
      ]
     },
     "metadata": {
      "needs_background": "light"
     },
     "output_type": "display_data"
    }
   ],
   "source": [
    "import matplotlib.pyplot as plt\n",
    "\n",
    "# Subplot 생성 (2개의 그래프: 하나는 loss, 하나는 accuracy)\n",
    "fig, (loss_ax, acc_ax) = plt.subplots(2, 1, figsize=(10, 8))\n",
    "\n",
    "# 첫 번째 서브플롯: loss\n",
    "loss_ax.plot(hist.history['loss'], 'y', label='train loss')\n",
    "loss_ax.plot(hist.history['val_loss'], 'g', label='validation loss')\n",
    "loss_ax.set_xlabel('epoch')\n",
    "loss_ax.set_ylabel('loss')\n",
    "loss_ax.legend(loc='best')\n",
    "loss_ax.set_title('Loss over epochs')\n",
    "\n",
    "# 두 번째 서브플롯: accuracy\n",
    "acc_ax.plot(hist.history['accuracy'], 'b', label='train acc')\n",
    "acc_ax.plot(hist.history['val_accuracy'], 'r', label='validation acc')\n",
    "acc_ax.set_xlabel('epoch')\n",
    "acc_ax.set_ylabel('accuracy')\n",
    "acc_ax.legend(loc='best')\n",
    "acc_ax.set_title('Accuracy over epochs')\n",
    "\n",
    "# 그래프 표시\n",
    "plt.tight_layout()  # 레이아웃 조정 (여백 자동 조정)\n",
    "plt.show()\n"
   ]
  },
  {
   "cell_type": "markdown",
   "metadata": {
    "id": "KRH1TAuPgb8i"
   },
   "source": [
    "## 9. 챗봇 테스트 하기"
   ]
  },
  {
   "cell_type": "markdown",
   "metadata": {},
   "source": [
    "새로운 입력 문장에 대해서는 훈련 때와 동일한 전처리를 거친다.  \n",
    "입력 문장을 토크나이징하고, START_TOKEN과 END_TOKEN을 추가한다.  \n",
    "패딩 마스킹과 룩 어헤드 마스킹을 계산한다.  \n",
    "디코더는 입력 시퀀스로부터 다음 단어를 예측한다.  \n",
    "디코더는 예측된 다음 단어를 기존의 입력 시퀀스에 추가하여 새로운 입력으로 사용한다.  \n",
    "END_TOKEN이 예측되거나 문장의 최대 길이에 도달하면 디코더는 동작을 멈춘다.  "
   ]
  },
  {
   "cell_type": "code",
   "execution_count": 56,
   "metadata": {},
   "outputs": [],
   "source": [
    "def decoder_inference(sentence):\n",
    "  sentence = preprocess_sentence(sentence)\n",
    "\n",
    "  # 입력된 문장을 정수 인코딩 후, 시작 토큰과 종료 토큰을 앞뒤로 추가.\n",
    "  # ex) Where have you been? → [[8331   86   30    5 1059    7 8332]]\n",
    "  sentence = tf.expand_dims(\n",
    "      START_TOKEN + tokenizer.encode(sentence) + END_TOKEN, axis=0)\n",
    "\n",
    "  # 디코더의 현재까지의 예측한 출력 시퀀스가 지속적으로 저장되는 변수.\n",
    "  # 처음에는 예측한 내용이 없음으로 시작 토큰만 별도 저장. ex) 8331\n",
    "  output_sequence = tf.expand_dims(START_TOKEN, 0)\n",
    "\n",
    "  # 디코더의 인퍼런스 단계\n",
    "  for i in range(MAX_LENGTH):\n",
    "    # 디코더는 최대 MAX_LENGTH의 길이만큼 다음 단어 예측을 반복합니다.\n",
    "    predictions = model(inputs=[sentence, output_sequence], training=False)\n",
    "    predictions = predictions[:, -1:, :]\n",
    "\n",
    "    # 현재 예측한 단어의 정수\n",
    "    predicted_id = tf.cast(tf.argmax(predictions, axis=-1), tf.int32)\n",
    "\n",
    "    # 만약 현재 예측한 단어가 종료 토큰이라면 for문을 종료\n",
    "    if tf.equal(predicted_id, END_TOKEN[0]):\n",
    "      break\n",
    "\n",
    "    # 예측한 단어들은 지속적으로 output_sequence에 추가됩니다.\n",
    "    # 이 output_sequence는 다시 디코더의 입력이 됩니다.\n",
    "    output_sequence = tf.concat([output_sequence, predicted_id], axis=-1)\n",
    "\n",
    "  return tf.squeeze(output_sequence, axis=0)"
   ]
  },
  {
   "cell_type": "code",
   "execution_count": 57,
   "metadata": {},
   "outputs": [],
   "source": [
    "def sentence_generation(sentence):\n",
    "  # 입력 문장에 대해서 디코더를 동작 시켜 예측된 정수 시퀀스를 리턴받습니다.\n",
    "  prediction = decoder_inference(sentence)\n",
    "\n",
    "  # 정수 시퀀스를 다시 텍스트 시퀀스로 변환합니다.\n",
    "  predicted_sentence = tokenizer.decode(\n",
    "      [i for i in prediction if i < tokenizer.vocab_size])\n",
    "\n",
    "  print('입력 : {}'.format(sentence))\n",
    "  print('출력 : {}'.format(predicted_sentence))\n",
    "\n",
    "  return predicted_sentence"
   ]
  },
  {
   "cell_type": "code",
   "execution_count": 58,
   "metadata": {},
   "outputs": [
    {
     "name": "stdout",
     "output_type": "stream",
     "text": [
      "입력 : 지금 뭐해?\n",
      "출력 : 수다떨고 영화보고 책보기 등등 다양하게 할 수 있어요 .\n",
      "입력 : 밖에 비 온다\n",
      "출력 : 저랑 이야기 해요 .\n",
      "입력 : 노래 듣고 싶다\n",
      "출력 : 전공에 관심이 많은가봐요 .\n",
      "입력 : 영화 재미 없다\n",
      "출력 : 웃을 때까지 이야기해 보죠\n"
     ]
    },
    {
     "data": {
      "text/plain": [
       "'웃을 때까지 이야기해 보죠'"
      ]
     },
     "execution_count": 58,
     "metadata": {},
     "output_type": "execute_result"
    }
   ],
   "source": [
    "sentence_generation('지금 뭐해?')\n",
    "sentence_generation('밖에 비 온다')\n",
    "sentence_generation('노래 듣고 싶다')\n",
    "sentence_generation('영화 재미 없다')"
   ]
  },
  {
   "cell_type": "markdown",
   "metadata": {},
   "source": [
    "결과 : 얼추 적당한 답변을 하는 것으로 보이지만 정확한 대답이 아님\n",
    "\n",
    "epoch을 50회로 늘려서 훈련했음에도 성능이 좋아지지 않음  \n",
    "-> 하이퍼파라미터 늘려서 실행해보기"
   ]
  },
  {
   "cell_type": "markdown",
   "metadata": {},
   "source": [
    "## 2차 시도"
   ]
  },
  {
   "cell_type": "markdown",
   "metadata": {},
   "source": [
    "하이퍼 파라미터 논문과 같게 진행  \n",
    "\n",
    "NUM_LAYERS = 6 # 인코더와 디코더의 층의 개수  \n",
    "D_MODEL = 512 # 인코더와 디코더 내부의 입, 출력의 고정 차원  \n",
    "NUM_HEADS = 8 # 멀티 헤드 어텐션에서의 헤드 수  \n",
    "UNITS = 2048 # 피드 포워드 신경망의 은닉층의 크기  \n",
    "DROPOUT = 0.3 # 드롭아웃의 비율"
   ]
  },
  {
   "cell_type": "code",
   "execution_count": 41,
   "metadata": {
    "colab": {
     "base_uri": "https://localhost:8080/",
     "height": 321
    },
    "id": "KhbTHJ5pWeZ_",
    "outputId": "067720ab-22e4-46fd-aeeb-894f80a341f5",
    "scrolled": false
   },
   "outputs": [
    {
     "name": "stdout",
     "output_type": "stream",
     "text": [
      "Epoch 1/30\n",
      "148/148 [==============================] - 56s 263ms/step - loss: 2.0312 - accuracy: 0.0308 - val_loss: 1.5942 - val_accuracy: 0.0346\n",
      "Epoch 2/30\n",
      "148/148 [==============================] - 35s 238ms/step - loss: 1.6998 - accuracy: 0.0522 - val_loss: 1.3872 - val_accuracy: 0.0692\n",
      "Epoch 3/30\n",
      "148/148 [==============================] - 35s 238ms/step - loss: 1.5193 - accuracy: 0.0720 - val_loss: 1.3314 - val_accuracy: 0.0713\n",
      "Epoch 4/30\n",
      "148/148 [==============================] - 35s 239ms/step - loss: 1.4505 - accuracy: 0.0734 - val_loss: 1.3084 - val_accuracy: 0.0711\n",
      "Epoch 5/30\n",
      "148/148 [==============================] - 35s 238ms/step - loss: 1.4069 - accuracy: 0.0744 - val_loss: 1.3030 - val_accuracy: 0.0715\n",
      "Epoch 6/30\n",
      "148/148 [==============================] - 35s 239ms/step - loss: 1.3767 - accuracy: 0.0755 - val_loss: 1.2980 - val_accuracy: 0.0726\n",
      "Epoch 7/30\n",
      "148/148 [==============================] - 36s 240ms/step - loss: 1.3476 - accuracy: 0.0771 - val_loss: 1.2964 - val_accuracy: 0.0741\n",
      "Epoch 8/30\n",
      "148/148 [==============================] - 35s 239ms/step - loss: 1.3186 - accuracy: 0.0784 - val_loss: 1.2916 - val_accuracy: 0.0743\n",
      "Epoch 9/30\n",
      "148/148 [==============================] - 35s 238ms/step - loss: 1.2919 - accuracy: 0.0796 - val_loss: 1.3099 - val_accuracy: 0.0753\n",
      "Epoch 10/30\n",
      "148/148 [==============================] - 35s 238ms/step - loss: 1.2684 - accuracy: 0.0806 - val_loss: 1.3022 - val_accuracy: 0.0766\n",
      "Epoch 11/30\n",
      "148/148 [==============================] - 35s 238ms/step - loss: 1.2424 - accuracy: 0.0820 - val_loss: 1.3131 - val_accuracy: 0.0769\n",
      "Epoch 12/30\n",
      "148/148 [==============================] - 35s 238ms/step - loss: 1.2166 - accuracy: 0.0829 - val_loss: 1.2958 - val_accuracy: 0.0768\n",
      "Epoch 13/30\n",
      "148/148 [==============================] - 35s 238ms/step - loss: 1.1938 - accuracy: 0.0843 - val_loss: 1.3012 - val_accuracy: 0.0776\n",
      "Epoch 14/30\n",
      "148/148 [==============================] - 35s 238ms/step - loss: 1.1718 - accuracy: 0.0849 - val_loss: 1.3143 - val_accuracy: 0.0777\n",
      "Epoch 15/30\n",
      "148/148 [==============================] - 35s 238ms/step - loss: 1.1499 - accuracy: 0.0859 - val_loss: 1.3187 - val_accuracy: 0.0789\n",
      "Epoch 16/30\n",
      "148/148 [==============================] - 35s 238ms/step - loss: 1.1365 - accuracy: 0.0860 - val_loss: 1.2903 - val_accuracy: 0.0788\n",
      "Epoch 17/30\n",
      "148/148 [==============================] - 35s 238ms/step - loss: 1.1131 - accuracy: 0.0871 - val_loss: 1.3219 - val_accuracy: 0.0792\n",
      "Epoch 18/30\n",
      "148/148 [==============================] - 35s 238ms/step - loss: 1.0958 - accuracy: 0.0880 - val_loss: 1.3107 - val_accuracy: 0.0797\n",
      "Epoch 19/30\n",
      "148/148 [==============================] - 35s 238ms/step - loss: 1.0795 - accuracy: 0.0886 - val_loss: 1.3097 - val_accuracy: 0.0794\n",
      "Epoch 20/30\n",
      "148/148 [==============================] - 35s 238ms/step - loss: 1.0617 - accuracy: 0.0890 - val_loss: 1.3096 - val_accuracy: 0.0793\n",
      "Epoch 21/30\n",
      "148/148 [==============================] - 35s 238ms/step - loss: 1.0416 - accuracy: 0.0904 - val_loss: 1.3131 - val_accuracy: 0.0791\n",
      "Epoch 22/30\n",
      "148/148 [==============================] - 35s 237ms/step - loss: 1.0271 - accuracy: 0.0907 - val_loss: 1.3166 - val_accuracy: 0.0790\n",
      "Epoch 23/30\n",
      "148/148 [==============================] - 35s 237ms/step - loss: 1.0116 - accuracy: 0.0918 - val_loss: 1.3369 - val_accuracy: 0.0789\n",
      "Epoch 24/30\n",
      "148/148 [==============================] - 35s 237ms/step - loss: 0.9976 - accuracy: 0.0925 - val_loss: 1.3418 - val_accuracy: 0.0786\n",
      "Epoch 25/30\n",
      "148/148 [==============================] - 35s 237ms/step - loss: 0.9839 - accuracy: 0.0933 - val_loss: 1.3444 - val_accuracy: 0.0795\n",
      "Epoch 26/30\n",
      "148/148 [==============================] - 35s 237ms/step - loss: 0.9694 - accuracy: 0.0939 - val_loss: 1.3443 - val_accuracy: 0.0792\n",
      "Epoch 27/30\n",
      "148/148 [==============================] - 35s 237ms/step - loss: 0.9582 - accuracy: 0.0947 - val_loss: 1.3392 - val_accuracy: 0.0784\n",
      "Epoch 28/30\n",
      "148/148 [==============================] - 35s 237ms/step - loss: 0.9413 - accuracy: 0.0958 - val_loss: 1.3536 - val_accuracy: 0.0793\n",
      "Epoch 29/30\n",
      "148/148 [==============================] - 35s 238ms/step - loss: 0.9291 - accuracy: 0.0963 - val_loss: 1.3541 - val_accuracy: 0.0802\n",
      "Epoch 30/30\n",
      "148/148 [==============================] - 35s 237ms/step - loss: 0.9028 - accuracy: 0.0983 - val_loss: 1.3427 - val_accuracy: 0.0799\n"
     ]
    }
   ],
   "source": [
    "#모델 생성\n",
    "\n",
    "tf.keras.backend.clear_session()\n",
    "\n",
    "# 하이퍼파라미터\n",
    "NUM_LAYERS = 6 # 인코더와 디코더의 층의 개수\n",
    "D_MODEL = 512 # 인코더와 디코더 내부의 입, 출력의 고정 차원\n",
    "NUM_HEADS = 8 # 멀티 헤드 어텐션에서의 헤드 수\n",
    "UNITS = 2048 # 피드 포워드 신경망의 은닉층의 크기\n",
    "DROPOUT = 0.3 # 드롭아웃의 비율\n",
    "\n",
    "model2 = transformer(\n",
    "    vocab_size=VOCAB_SIZE,\n",
    "    num_layers=NUM_LAYERS,\n",
    "    units=UNITS,\n",
    "    d_model=D_MODEL,\n",
    "    num_heads=NUM_HEADS,\n",
    "    dropout=DROPOUT)\n",
    "\n",
    "\n",
    "# 손실 함수 정의\n",
    "def loss_function(y_true, y_pred):\n",
    "  y_true = tf.reshape(y_true, shape=(-1, MAX_LENGTH - 1))\n",
    "\n",
    "  loss = tf.keras.losses.SparseCategoricalCrossentropy(\n",
    "      from_logits=True, reduction='none')(y_true, y_pred)\n",
    "\n",
    "  mask = tf.cast(tf.not_equal(y_true, 0), tf.float32)\n",
    "  loss = tf.multiply(loss, mask)\n",
    "\n",
    "  return tf.reduce_mean(loss)\n",
    "\n",
    "# 옵티마이저 설정\n",
    "class CustomSchedule(tf.keras.optimizers.schedules.LearningRateSchedule):\n",
    "\n",
    "  def __init__(self, d_model, warmup_steps=4000):\n",
    "    super(CustomSchedule, self).__init__()\n",
    "\n",
    "    self.d_model = d_model\n",
    "    self.d_model = tf.cast(self.d_model, tf.float32)\n",
    "\n",
    "    self.warmup_steps = warmup_steps\n",
    "\n",
    "  def __call__(self, step):\n",
    "    arg1 = tf.math.rsqrt(step)\n",
    "    arg2 = step * (self.warmup_steps**-1.5)\n",
    "\n",
    "    return tf.math.rsqrt(self.d_model) * tf.math.minimum(arg1, arg2)\n",
    "\n",
    "# 컴파일 설정\n",
    "\n",
    "learning_rate = CustomSchedule(D_MODEL)\n",
    "\n",
    "optimizer = tf.keras.optimizers.Adam(\n",
    "    learning_rate, beta_1=0.9, beta_2=0.98, epsilon=1e-9)\n",
    "\n",
    "def accuracy(y_true, y_pred):\n",
    "  y_true = tf.reshape(y_true, shape=(-1, MAX_LENGTH - 1))\n",
    "  return tf.keras.metrics.sparse_categorical_accuracy(y_true, y_pred)\n",
    "\n",
    "model2.compile(optimizer=optimizer, loss=loss_function, metrics=[accuracy])\n",
    "\n",
    "\n",
    "\n",
    "#모델 학습\n",
    "EPOCHS = 30\n",
    "\n",
    "hist2 = model2.fit(train_dataset,\n",
    "                 epochs=EPOCHS,\n",
    "                 validation_data=val_dataset,\n",
    "                 verbose=1)\n",
    "\n",
    "# 체크포인트 정의\n",
    "checkpoint_path = \"./checkpoints/train\"\n",
    "ckpt = tf.train.Checkpoint(transformer=model2, optimizer=optimizer)"
   ]
  },
  {
   "cell_type": "code",
   "execution_count": 44,
   "metadata": {},
   "outputs": [
    {
     "data": {
      "image/png": "[encoded data removed]",
      "text/plain": [
       "<Figure size 720x576 with 2 Axes>"
      ]
     },
     "metadata": {
      "needs_background": "light"
     },
     "output_type": "display_data"
    }
   ],
   "source": [
    "import matplotlib.pyplot as plt\n",
    "\n",
    "# Subplot 생성 (2개의 그래프: 하나는 loss, 하나는 accuracy)\n",
    "fig, (loss_ax, acc_ax) = plt.subplots(2, 1, figsize=(10, 8))\n",
    "\n",
    "# 첫 번째 서브플롯: loss\n",
    "loss_ax.plot(hist2.history['loss'], 'y', label='train loss')\n",
    "loss_ax.plot(hist2.history['val_loss'], 'g', label='validation loss')\n",
    "loss_ax.set_xlabel('epoch')\n",
    "loss_ax.set_ylabel('loss')\n",
    "loss_ax.legend(loc='best')\n",
    "loss_ax.set_title('Loss over epochs')\n",
    "\n",
    "# 두 번째 서브플롯: accuracy\n",
    "acc_ax.plot(hist2.history['accuracy'], 'b', label='train acc')\n",
    "acc_ax.plot(hist2.history['val_accuracy'], 'r', label='validation acc')\n",
    "acc_ax.set_xlabel('epoch')\n",
    "acc_ax.set_ylabel('accuracy')\n",
    "acc_ax.legend(loc='best')\n",
    "acc_ax.set_title('Accuracy over epochs')\n",
    "\n",
    "# 그래프 표시\n",
    "plt.tight_layout()  # 레이아웃 조정 (여백 자동 조정)\n",
    "plt.show()\n"
   ]
  },
  {
   "cell_type": "code",
   "execution_count": 45,
   "metadata": {},
   "outputs": [
    {
     "name": "stdout",
     "output_type": "stream",
     "text": [
      "입력 : 지금 뭐해?\n",
      "출력 : 수다떨고 영화보고 책보기 등등 다양하게 할 수 있어요 .\n",
      "입력 : 밖에 비 온다\n",
      "출력 : 쉬운 일이 아니죠 .\n",
      "입력 : 노래 듣고 싶다\n",
      "출력 : 노래 연습 꾸준히 해보세요 .\n",
      "입력 : 영화 재미 없다\n",
      "출력 : 영화 한 편 보세요 .\n"
     ]
    },
    {
     "data": {
      "text/plain": [
       "'영화 한 편 보세요 .'"
      ]
     },
     "execution_count": 45,
     "metadata": {},
     "output_type": "execute_result"
    }
   ],
   "source": [
    "sentence_generation('지금 뭐해?')\n",
    "sentence_generation('밖에 비 온다')\n",
    "sentence_generation('노래 듣고 싶다')\n",
    "sentence_generation('영화 재미 없다')"
   ]
  },
  {
   "cell_type": "markdown",
   "metadata": {},
   "source": [
    "결과 : 하이퍼 파라미터 늘려서 실행해본 결과, 오히려 성능이 좋지 않았다"
   ]
  },
  {
   "cell_type": "markdown",
   "metadata": {},
   "source": [
    "### 3차 시도  \n",
    "\n",
    "Dropout 비율 조정 및 EarlyStopping 추가해보기"
   ]
  },
  {
   "cell_type": "code",
   "execution_count": 64,
   "metadata": {},
   "outputs": [
    {
     "name": "stdout",
     "output_type": "stream",
     "text": [
      "Epoch 1/30\n",
      "148/148 [==============================] - 9s 53ms/step - loss: 0.0089 - accuracy: 0.2558 - val_loss: 1.7240 - val_accuracy: 0.1121\n",
      "Epoch 2/30\n",
      "148/148 [==============================] - 7s 50ms/step - loss: 0.0085 - accuracy: 0.2560 - val_loss: 1.7227 - val_accuracy: 0.1125\n",
      "Epoch 3/30\n",
      "148/148 [==============================] - 7s 51ms/step - loss: 0.0082 - accuracy: 0.2559 - val_loss: 1.7107 - val_accuracy: 0.1127\n",
      "Epoch 4/30\n",
      "148/148 [==============================] - 7s 51ms/step - loss: 0.0073 - accuracy: 0.2561 - val_loss: 1.7214 - val_accuracy: 0.1123\n",
      "Epoch 5/30\n",
      "148/148 [==============================] - 7s 50ms/step - loss: 0.0077 - accuracy: 0.2561 - val_loss: 1.7391 - val_accuracy: 0.1123\n",
      "Epoch 6/30\n",
      "148/148 [==============================] - 7s 51ms/step - loss: 0.0072 - accuracy: 0.2561 - val_loss: 1.7437 - val_accuracy: 0.1126\n",
      "Epoch 7/30\n",
      "148/148 [==============================] - 8s 51ms/step - loss: 0.0071 - accuracy: 0.2562 - val_loss: 1.7600 - val_accuracy: 0.1126\n"
     ]
    }
   ],
   "source": [
    "#모델 생성\n",
    "\n",
    "tf.keras.backend.clear_session()\n",
    "\n",
    "# 하이퍼파라미터\n",
    "NUM_LAYERS = 2 # 인코더와 디코더의 층의 개수\n",
    "D_MODEL = 256 # 인코더와 디코더 내부의 입, 출력의 고정 차원\n",
    "NUM_HEADS = 8 # 멀티 헤드 어텐션에서의 헤드 수\n",
    "UNITS = 512 # 피드 포워드 신경망의 은닉층의 크기\n",
    "DROPOUT = 0.1 # 드롭아웃의 비율\n",
    "\n",
    "\n",
    "model2 = transformer(\n",
    "    vocab_size=VOCAB_SIZE,\n",
    "    num_layers=NUM_LAYERS,\n",
    "    units=UNITS,\n",
    "    d_model=D_MODEL,\n",
    "    num_heads=NUM_HEADS,\n",
    "    dropout=DROPOUT)\n",
    "\n",
    "# 컴파일 설정\n",
    "\n",
    "learning_rate = CustomSchedule(D_MODEL)\n",
    "\n",
    "optimizer = tf.keras.optimizers.Adam(\n",
    "    learning_rate, beta_1=0.9, beta_2=0.98, epsilon=1e-9)\n",
    "\n",
    "def accuracy(y_true, y_pred):\n",
    "  y_true = tf.reshape(y_true, shape=(-1, MAX_LENGTH - 1))\n",
    "  return tf.keras.metrics.sparse_categorical_accuracy(y_true, y_pred)\n",
    "\n",
    "model2.compile(optimizer=optimizer, loss=loss_function, metrics=[accuracy])\n",
    "\n",
    "\n",
    "\n",
    "#모델 학습\n",
    "from tensorflow.keras.callbacks import EarlyStopping\n",
    "\n",
    "EPOCHS = 30\n",
    "\n",
    "# EarlyStopping 콜백 정의\n",
    "early_stopping = EarlyStopping(monitor='val_loss',    # 검증 손실을 모니터링\n",
    "                               patience=4,            # 3 에폭 동안 개선되지 않으면 훈련 종료\n",
    "                               min_delta=0.01,        # 손실이 0.01 이상 개선되지 않으면 종료\n",
    "                               restore_best_weights=True)  # 훈련 종료 후 가장 좋은 모델 가중치를 복원\n",
    "\n",
    "# 모델 훈련 시 콜백 추가\n",
    "history = model.fit(train_dataset,\n",
    "                    epochs=EPOCHS,\n",
    "                    validation_data=val_dataset,\n",
    "                    callbacks=[early_stopping])"
   ]
  },
  {
   "cell_type": "code",
   "execution_count": 65,
   "metadata": {},
   "outputs": [
    {
     "data": {
      "image/png": "[encoded data removed]",
      "text/plain": [
       "<Figure size 720x576 with 2 Axes>"
      ]
     },
     "metadata": {
      "needs_background": "light"
     },
     "output_type": "display_data"
    }
   ],
   "source": [
    "import matplotlib.pyplot as plt\n",
    "\n",
    "# Subplot 생성 (2개의 그래프: 하나는 loss, 하나는 accuracy)\n",
    "fig, (loss_ax, acc_ax) = plt.subplots(2, 1, figsize=(10, 8))\n",
    "\n",
    "# 첫 번째 서브플롯: loss\n",
    "loss_ax.plot(hist.history['loss'], 'y', label='train loss')\n",
    "loss_ax.plot(hist.history['val_loss'], 'g', label='validation loss')\n",
    "loss_ax.set_xlabel('epoch')\n",
    "loss_ax.set_ylabel('loss')\n",
    "loss_ax.legend(loc='best')\n",
    "loss_ax.set_title('Loss over epochs')\n",
    "\n",
    "# 두 번째 서브플롯: accuracy\n",
    "acc_ax.plot(hist.history['accuracy'], 'b', label='train acc')\n",
    "acc_ax.plot(hist.history['val_accuracy'], 'r', label='validation acc')\n",
    "acc_ax.set_xlabel('epoch')\n",
    "acc_ax.set_ylabel('accuracy')\n",
    "acc_ax.legend(loc='best')\n",
    "acc_ax.set_title('Accuracy over epochs')\n",
    "\n",
    "# 그래프 표시\n",
    "plt.tight_layout()  # 레이아웃 조정 (여백 자동 조정)\n",
    "plt.show()\n"
   ]
  },
  {
   "cell_type": "code",
   "execution_count": 67,
   "metadata": {},
   "outputs": [
    {
     "name": "stdout",
     "output_type": "stream",
     "text": [
      "입력 : 지금 뭐해?\n",
      "출력 : 수다떨고 영화보고 책보기 등등 다양하게 할 수 있어요 .\n",
      "입력 : 밖에 비 온다\n",
      "출력 : 잘 이별의 끝일지도 몰라요 .\n",
      "입력 : 노래 듣고 싶다\n",
      "출력 : 지금 전화해보세요 .\n",
      "입력 : 영화 재미 없다\n",
      "출력 : 웃을 때까지 이야기해 보죠\n"
     ]
    },
    {
     "data": {
      "text/plain": [
       "'웃을 때까지 이야기해 보죠'"
      ]
     },
     "execution_count": 67,
     "metadata": {},
     "output_type": "execute_result"
    }
   ],
   "source": [
    "sentence_generation('지금 뭐해?')\n",
    "sentence_generation('밖에 비 온다')\n",
    "sentence_generation('노래 듣고 싶다')\n",
    "sentence_generation('영화 재미 없다')"
   ]
  },
  {
   "cell_type": "markdown",
   "metadata": {},
   "source": [
    "**회고**  \n",
    "\n",
    "하이퍼 파라미터를 올려서 훈련하니 오히려 과적합되어 성능이 좋지 않았다.  \n",
    "성능을 높이기 위해서 여러가지 실험을 해보았지만 문장의 형식만 갖출 뿐 대화가 이어지는 느낌이 들지 않았다  \n",
    "퍼실님께 물어봤을 때 데이터셋이 단순해서 이러한 결과가 나올 수 있다는 답변을 들었다.  \n",
    "더 성능을 높일 수 있는 방법을 고민해봐야겠다."
   ]
  },
  {
   "cell_type": "code",
   "execution_count": null,
   "metadata": {},
   "outputs": [],
   "source": []
  }
 ],
 "metadata": {
  "colab": {
   "provenance": []
  },
  "kernelspec": {
   "display_name": "Python 3 (ipykernel)",
   "language": "python",
   "name": "python3"
  },
  "language_info": {
   "codemirror_mode": {
    "name": "ipython",
    "version": 3
   },
   "file_extension": ".py",
   "mimetype": "text/x-python",
   "name": "python",
   "nbconvert_exporter": "python",
   "pygments_lexer": "ipython3",
   "version": "3.9.7"
  }
 },
 "nbformat": 4,
 "nbformat_minor": 1
}
